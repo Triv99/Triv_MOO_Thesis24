{
 "cells": [
  {
   "cell_type": "code",
   "execution_count": 1,
   "metadata": {},
   "outputs": [
    {
     "name": "stdout",
     "output_type": "stream",
     "text": [
      "           Parameter      Value                                        Description\n",
      "0      Sample_Volume         25  Size of the Sample Container in the LISST 200X...\n",
      "1                mld        100       Mixed Layer Depth/Fluid Thickness, Units: cm\n",
      "2               Flow  Turbulent               Flow Regime: 'Laminar' or 'Turbulent\n",
      "3                K_B        0.0                     Boltzmann Constant, Units: J/K\n",
      "4          T_Celcius         20                       Input Temperature in Celcius\n",
      "5               T_th     293.15                Thermodynamic Temperature, Units: K\n",
      "6              rho_f      1.025  Fluid Density, Units: g/cm^3, Note: Dependent ...\n",
      "7              rho_p        1.2  Diatom/Cocolithospheres Particle Density, Unit...\n",
      "8                 mu      0.001  Dynamic Viscosity, Units: kg/(m*s), Note: Depe...\n",
      "9                 nu   0.000001  Kinematic Viscosity, Units: m^2/s, Note: Depen...\n",
      "10             gamma          1                         Shear Gradient, Units: 1/s\n",
      "11           epsilon      0.001  Turbulent Energy Dissipation Rate, Units: m^2/s^3\n",
      "12               a_g       9.81          Acceleration Due to Gravity, Units: m/s^2\n",
      "13             alpha          1  Stickiness / Probability of Coagulation, Units...\n",
      "14            Kernel        all                                 Coagulation Kernel\n",
      "15              Type        rec                            Coagulation Kernel type\n",
      "16            t_span  (0, 3600)  Time span for the simulation (start and end ti...\n",
      "17     set_time_step      False  True for manual time stepping, False for autom...\n",
      "18                dt        0.1  Time step for the simulation in seconds for ma...\n",
      "19  include_settling      False  True to include settling in the model, False t...\n"
     ]
    }
   ],
   "source": [
    "%run Numerical_SCE.py"
   ]
  }
 ],
 "metadata": {
  "kernelspec": {
   "display_name": "dmcsp",
   "language": "python",
   "name": "python3"
  },
  "language_info": {
   "codemirror_mode": {
    "name": "ipython",
    "version": 3
   },
   "file_extension": ".py",
   "mimetype": "text/x-python",
   "name": "python",
   "nbconvert_exporter": "python",
   "pygments_lexer": "ipython3",
   "version": "3.11.11"
  }
 },
 "nbformat": 4,
 "nbformat_minor": 2
}
